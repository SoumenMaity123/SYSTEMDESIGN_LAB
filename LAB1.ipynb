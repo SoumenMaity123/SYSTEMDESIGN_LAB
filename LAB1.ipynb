{
  "cells": [
    {
      "cell_type": "markdown",
      "metadata": {
        "id": "view-in-github",
        "colab_type": "text"
      },
      "source": [
        "<a href=\"https://colab.research.google.com/github/SoumenMaity123/SYSTEM_DESIGN_LAB/blob/main/LAB1.ipynb\" target=\"_parent\"><img src=\"https://colab.research.google.com/assets/colab-badge.svg\" alt=\"Open In Colab\"/></a>"
      ]
    },
    {
      "cell_type": "code",
      "execution_count": null,
      "metadata": {
        "id": "qkgATuq1CaSN"
      },
      "outputs": [],
      "source": [
        "import matplotlib.pyplot as plt\n",
        "import math\n",
        "import numpy as np"
      ]
    },
    {
      "cell_type": "markdown",
      "source": [
        "# **Geometric Random Variable**"
      ],
      "metadata": {
        "id": "ZUR7o_vesr57"
      }
    },
    {
      "cell_type": "code",
      "execution_count": null,
      "metadata": {
        "id": "Jbq9QvE8PJ-b"
      },
      "outputs": [],
      "source": [
        "def geometric(x, p):\n",
        "    '''\n",
        "    Function to plot a geometric distribution graph\n",
        "    params:\n",
        "        x: number of times the event does not occur before the first success (the trial number on which the first success occurs)\n",
        "        p: probability of an event occurring on each trial (probability of success). It must be a number between 0 and 1.\n",
        "    return: probability of success occurring on the x-th trial\n",
        "    '''\n",
        "    x = int(x)\n",
        "    if x < 1:\n",
        "        raise ValueError(\"The number must be positive!\")\n",
        "\n",
        "    if p < 0 and p > 1:\n",
        "        raise ValueError(\"The probability should be between 0 and 1\")\n",
        "\n",
        "    probability = (1 - p) ** (x - 1) * p\n",
        "    return probability"
      ]
    },
    {
      "cell_type": "markdown",
      "source": [
        "# **Bionomial Random Variable**\n",
        "A binomial random variable counts the number of successes in a fixed number of independent trials, where each trial has only two possible outcomes: success or failure. The probability of success(p) remains constant across all trials"
      ],
      "metadata": {
        "id": "83y3yK0YWN6k"
      }
    },
    {
      "cell_type": "code",
      "source": [
        "def bionomial(n:int,p:float,value:int):\n",
        "  \"\"\"\n",
        "  Calculate binomial probabilities.\n",
        "\n",
        "  n: An integer representing the total number of trials.\n",
        "  p: A float representing the probability of success on a single trial.\n",
        "  value: An integer representing the desired number of successful outcomes.\n",
        "\n",
        "  return: probabilities for the specified number of successes.\n",
        "\n",
        "  \"\"\"\n",
        "  if not isinstance(n, int) or n <= 0:\n",
        "    raise ValueError(\"n must be a positive integer\")\n",
        "  from math import comb  # Import the comb function from the math module\n",
        "  probability=comb(n,value)*(p**value)*((1-p)**(n-value))\n",
        "\n",
        "  \"\"\"\n",
        "  comb(n, value): Calculates the number of ways to choose value successes out of n trials.\n",
        "  (p**value): Calculates the probability of getting value successes.\n",
        "  ((1-p)**(n-value)): Calculates the probability of getting n - value failures.\n",
        "  These three components are multiplied together according to the binomial probability formula.\n",
        "  The result is stored in a  variable called probability.\n",
        "  \"\"\"\n",
        "  return probability\n"
      ],
      "metadata": {
        "id": "JGKOBoDiTZiB"
      },
      "execution_count": null,
      "outputs": []
    },
    {
      "cell_type": "markdown",
      "source": [
        "# **Poisson Random Variables**\n",
        "A Poisson distribution is a discrete probability distribution that expresses the probability of a given number of events occurring in a fixed interval of time or space, given a known average rate of occurrence.\n",
        "Key Parameters:\n",
        "λ (lambda): The average rate of occurrence of the event. Probability Mass Function (PMF):\n",
        "  P(X=k) = (e^(-λ) * λ^k) / k!\n",
        "Cumulative Distribution Function (CDF):\n",
        "The CDF is the sum of the PMF from 0 to k:\n",
        "  P(X ≤ k) = Σ(i=0 to k) P(X=i)"
      ],
      "metadata": {
        "id": "I_-1WM6GqEbW"
      }
    },
    {
      "cell_type": "code",
      "source": [
        "def poisson_pmf(k, lam):\n",
        "  \"\"\"Calculates the probability mass function of a Poisson distribution.\n",
        "\n",
        "  Args:\n",
        "    k: The number of events.\n",
        "    lam: The average rate of occurrence.\n",
        "\n",
        "  Returns:\n",
        "    The probability of k events occurring.\n",
        "  \"\"\"\n",
        "\n",
        "  return (math.exp(-lam) * lam**k) / math.factorial(k)\n",
        "\n",
        "def poisson(k, lam):\n",
        "  \"\"\"Calculates the cumulative distribution function of a Poisson distribution.\n",
        "\n",
        "  Args:\n",
        "    k: The number of events.\n",
        "    lam: The average rate of occurrence.\n",
        "\n",
        "  Returns:\n",
        "    The probability of k or fewer events occurring.\n",
        "  \"\"\"\n",
        "\n",
        "  cdf = 0\n",
        "  for i in range(k+1):\n",
        "    cdf += poisson_pmf(i, lam)\n",
        "  return cdf"
      ],
      "metadata": {
        "id": "rN4K0x6eUhka"
      },
      "execution_count": null,
      "outputs": []
    },
    {
      "cell_type": "code",
      "source": [
        "def plot(name, res, start, end):\n",
        "    fig = plt.figure(figsize=(10, 5))\n",
        "\n",
        "    plt.bar(range(start, end+1), res, color='maroon', width=0.1)\n",
        "\n",
        "    plt.xlabel('Number of trails')\n",
        "    plt.ylabel('Probability')\n",
        "    plt.title(f'{name.capitalize()} distribution')\n",
        "    plt.xticks(range(start, end+1))\n",
        "    plt.grid(True)\n",
        "\n",
        "    plt.show()"
      ],
      "metadata": {
        "id": "YnK_QAJ-sfCX"
      },
      "execution_count": null,
      "outputs": []
    },
    {
      "cell_type": "code",
      "source": [
        "if __name__=='__main__':\n",
        "    names = ['geometric', 'binomial', 'poisson', 'uniform']\n",
        "    name = (input(\"Enter your distribution(Geometric, Binomial, Poisson, Uniform): \").lower())\n",
        "\n",
        "    if name not in names:\n",
        "        raise ValueError(\"Invalid distribution\")\n",
        "\n",
        "    start = int(input(\"Enter the start point: \"))\n",
        "    end = int(input(\"Enter the end point: \"))\n",
        "\n",
        "    if start < 0 or end < 0:\n",
        "        raise ValueError(\"Range should be greater than zero.\")\n",
        "\n",
        "    res = []\n",
        "\n",
        "    if name == 'geometric':\n",
        "        p = float(input('Enter the probability of the event: '))\n",
        "        res = [geometric(x, p) for x in range(start, end + 1)]\n",
        "    elif name == 'binomial':\n",
        "        k = int(input('Enter the total number of trails: '))\n",
        "        p = float(input('Enter the probability of success: '))\n",
        "        res = [binomial(k, p, x) for x in range(start, end + 1)]\n",
        "    elif name == 'poisson':\n",
        "        mu = int(input('Enter the average number of events'))\n",
        "        res = [poisson(x, mu) for x in range(start, end + 1)]\n",
        "    else:\n",
        "        low = int(input('Enter the lower bound: '))\n",
        "        high = int(input('Enter the upper bound: '))\n",
        "        res = [uniform(x, p) for x in range(start, end + 1)]\n",
        "\n",
        "    plot(name, res, start, end)"
      ],
      "metadata": {
        "id": "QTC42gRVXTsG",
        "colab": {
          "base_uri": "https://localhost:8080/",
          "height": 556
        },
        "outputId": "3f200727-f6db-4c7a-c249-cc0e1928504c"
      },
      "execution_count": 29,
      "outputs": [
        {
          "name": "stdout",
          "output_type": "stream",
          "text": [
            "Enter your distribution(Geometric, Binomial, Poisson, Uniform): geometric\n",
            "Enter the start point: 1\n",
            "Enter the end point: 10\n",
            "Enter the probability of the event: 0.5\n"
          ]
        },
        {
          "output_type": "display_data",
          "data": {
            "text/plain": [
              "<Figure size 1000x500 with 1 Axes>"
            ],
            "image/png": "[encoded data removed]"
          },
          "metadata": {}
        }
      ]
    },
    {
      "cell_type": "code",
      "source": [
        "g"
      ],
      "metadata": {
        "id": "wGPNq8wswTwb"
      },
      "execution_count": 28,
      "outputs": []
    }
  ],
  "metadata": {
    "colab": {
      "provenance": [],
      "include_colab_link": true
    },
    "kernelspec": {
      "display_name": "Python 3",
      "name": "python3"
    },
    "language_info": {
      "codemirror_mode": {
        "name": "ipython",
        "version": 3
      },
      "file_extension": ".py",
      "mimetype": "text/x-python",
      "name": "python",
      "nbconvert_exporter": "python",
      "pygments_lexer": "ipython3",
      "version": "3.12.7"
    }
  },
  "nbformat": 4,
  "nbformat_minor": 0
}