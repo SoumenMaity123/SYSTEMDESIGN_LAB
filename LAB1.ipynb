{
  "cells": [
    {
      "cell_type": "markdown",
      "metadata": {
        "id": "view-in-github",
        "colab_type": "text"
      },
      "source": [
        "<a href=\"https://colab.research.google.com/github/SoumenMaity123/SYSTEM_DESIGN_LAB/blob/main/LAB1.ipynb\" target=\"_parent\"><img src=\"https://colab.research.google.com/assets/colab-badge.svg\" alt=\"Open In Colab\"/></a>"
      ]
    },
    {
      "cell_type": "code",
      "execution_count": 27,
      "metadata": {
        "id": "qkgATuq1CaSN"
      },
      "outputs": [],
      "source": [
        "import matplotlib.pyplot as plt\n",
        "import math\n",
        "import numpy as np"
      ]
    },
    {
      "cell_type": "code",
      "execution_count": null,
      "metadata": {
        "id": "Jbq9QvE8PJ-b"
      },
      "outputs": [],
      "source": [
        "def geometric(x, p):\n",
        "    '''\n",
        "    Function to plot a geometric distribution graph\n",
        "    params:\n",
        "        x: number of times the event does not occur before the first success (the trial number on which the first success occurs)\n",
        "        p: probability of an event occurring on each trial (probability of success). It must be a number between 0 and 1.\n",
        "    return: probability of success occurring on the x-th trial\n",
        "    '''\n",
        "    x = int(x)\n",
        "    if x < 1:\n",
        "        raise ValueError(\"The number must be positive!\")\n",
        "\n",
        "    if p < 0 and p > 1:\n",
        "        raise ValueError(\"The probability should be between 0 and 1\")\n",
        "\n",
        "    probability = (1 - p) ** (x - 1) * p\n",
        "    return probability"
      ]
    },
    {
      "cell_type": "code",
      "execution_count": null,
      "metadata": {
        "id": "wmlF_hEzPJ-d"
      },
      "outputs": [],
      "source": []
    },
    {
      "cell_type": "markdown",
      "source": [
        "# **Bionomial Random Variable**"
      ],
      "metadata": {
        "id": "83y3yK0YWN6k"
      }
    },
    {
      "cell_type": "code",
      "source": [
        "def bionomial(n:int,p:float,val:list) -> list:\n",
        "  \"\"\"\n",
        "  Calculate binomial probabilities.\n",
        "  \"\"\"\n",
        "  from math import comb  # Import the comb function from the math module\n",
        "  probability=[comb(n,i)*(p**i)*((1-p)**(n-i)) for i in val]\n",
        "  return probability\n"
      ],
      "metadata": {
        "id": "JGKOBoDiTZiB"
      },
      "execution_count": 22,
      "outputs": []
    },
    {
      "cell_type": "code",
      "source": [
        "n=10\n",
        "p=0.1\n",
        "val=range(1,10)\n",
        "probability=bionomial (n,p,val)"
      ],
      "metadata": {
        "id": "ngQ6h5fGWVRi"
      },
      "execution_count": 38,
      "outputs": []
    },
    {
      "cell_type": "code",
      "source": [
        "n*p"
      ],
      "metadata": {
        "id": "ZBGsubpnY8YD",
        "outputId": "8dada46c-115a-400b-ccda-109945cf1f20",
        "colab": {
          "base_uri": "https://localhost:8080/"
        }
      },
      "execution_count": 39,
      "outputs": [
        {
          "output_type": "execute_result",
          "data": {
            "text/plain": [
              "1.0"
            ]
          },
          "metadata": {},
          "execution_count": 39
        }
      ]
    },
    {
      "cell_type": "code",
      "source": [
        "fig= plt.figure(figsize=(10,5))\n",
        "plt.bar(val,probability,color='blue',width=1)\n",
        "plt.xlabel('Number of Trials')\n",
        "plt.ylabel('Probability of Success')\n",
        "plt.show()"
      ],
      "metadata": {
        "id": "qjTXludxZNV6",
        "outputId": "794dfb55-8e4d-45ed-ca32-9364b7ca8034",
        "colab": {
          "base_uri": "https://localhost:8080/",
          "height": 465
        }
      },
      "execution_count": 40,
      "outputs": [
        {
          "output_type": "display_data",
          "data": {
            "text/plain": [
              "<Figure size 1000x500 with 1 Axes>"
            ],
            "image/png": "[encoded data removed]"
          },
          "metadata": {}
        }
      ]
    },
    {
      "cell_type": "markdown",
      "source": [
        "# **Poisson Random Variables**"
      ],
      "metadata": {
        "id": "AfhLMrKfTVF6"
      }
    },
    {
      "cell_type": "code",
      "source": [
        "def poisson_dist(mu, x):\n",
        "    \"\"\"\n",
        "    Poisson distribution calculates the probability of exactly x events occurring in a fixed interval.\n",
        "    Formula: P(X=x) = (mu^x * e^(-mu)) / x!\n",
        "    \"\"\"\n",
        "    x = int(x)  # Ensure x is an integer\n",
        "    if x < 0:\n",
        "        return 0  # Probability is 0 for x < 0\n",
        "    probability = (mu ** x) * (math.exp(-mu)) / math.factorial(x)\n",
        "    return probability"
      ],
      "metadata": {
        "id": "rN4K0x6eUhka"
      },
      "execution_count": null,
      "outputs": []
    }
  ],
  "metadata": {
    "colab": {
      "provenance": [],
      "include_colab_link": true
    },
    "kernelspec": {
      "display_name": "Python 3",
      "name": "python3"
    },
    "language_info": {
      "codemirror_mode": {
        "name": "ipython",
        "version": 3
      },
      "file_extension": ".py",
      "mimetype": "text/x-python",
      "name": "python",
      "nbconvert_exporter": "python",
      "pygments_lexer": "ipython3",
      "version": "3.12.7"
    }
  },
  "nbformat": 4,
  "nbformat_minor": 0
}