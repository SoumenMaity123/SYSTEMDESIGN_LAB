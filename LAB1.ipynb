{
  "cells": [
    {
      "cell_type": "markdown",
      "metadata": {
        "id": "view-in-github",
        "colab_type": "text"
      },
      "source": [
        "<a href=\"https://colab.research.google.com/github/SoumenMaity123/SYSTEM_DESIGN_LAB/blob/main/LAB1.ipynb\" target=\"_parent\"><img src=\"https://colab.research.google.com/assets/colab-badge.svg\" alt=\"Open In Colab\"/></a>"
      ]
    },
    {
      "cell_type": "code",
      "execution_count": null,
      "metadata": {
        "id": "qkgATuq1CaSN"
      },
      "outputs": [],
      "source": [
        "import matplotlib.pyplot as plt\n",
        "import math\n",
        "import numpy as np"
      ]
    },
    {
      "cell_type": "code",
      "execution_count": null,
      "metadata": {
        "id": "Jbq9QvE8PJ-b"
      },
      "outputs": [],
      "source": [
        "def geometric(x, p):\n",
        "    '''\n",
        "    Function to plot a geometric distribution graph\n",
        "    params:\n",
        "        x: number of times the event does not occur before the first success (the trial number on which the first success occurs)\n",
        "        p: probability of an event occurring on each trial (probability of success). It must be a number between 0 and 1.\n",
        "    return: probability of success occurring on the x-th trial\n",
        "    '''\n",
        "    x = int(x)\n",
        "    if x < 1:\n",
        "        raise ValueError(\"The number must be positive!\")\n",
        "\n",
        "    if p < 0 and p > 1:\n",
        "        raise ValueError(\"The probability should be between 0 and 1\")\n",
        "\n",
        "    probability = (1 - p) ** (x - 1) * p\n",
        "    return probability"
      ]
    },
    {
      "cell_type": "code",
      "execution_count": null,
      "metadata": {
        "id": "wmlF_hEzPJ-d"
      },
      "outputs": [],
      "source": []
    },
    {
      "cell_type": "markdown",
      "source": [
        "# **Bionomial Random Variable**"
      ],
      "metadata": {
        "id": "83y3yK0YWN6k"
      }
    },
    {
      "cell_type": "code",
      "source": [],
      "metadata": {
        "id": "JGKOBoDiTZiB"
      },
      "execution_count": null,
      "outputs": []
    },
    {
      "cell_type": "code",
      "source": [
        "print (\"Bionomial Random variable\")"
      ],
      "metadata": {
        "id": "ngQ6h5fGWVRi",
        "outputId": "cdab41b1-be02-4d6f-eb15-c36c048b2c43",
        "colab": {
          "base_uri": "https://localhost:8080/"
        }
      },
      "execution_count": null,
      "outputs": [
        {
          "output_type": "stream",
          "name": "stdout",
          "text": [
            "Bionomial Random variable\n"
          ]
        }
      ]
    },
    {
      "cell_type": "markdown",
      "source": [
        "# **Poisson Random Variables**"
      ],
      "metadata": {
        "id": "AfhLMrKfTVF6"
      }
    },
    {
      "cell_type": "code",
      "source": [
        "def poisson_dist(mu, x):\n",
        "    \"\"\"\n",
        "    Poisson distribution calculates the probability of exactly x events occurring in a fixed interval.\n",
        "    Formula: P(X=x) = (mu^x * e^(-mu)) / x!\n",
        "    \"\"\"\n",
        "    x = int(x)  # Ensure x is an integer\n",
        "    if x < 0:\n",
        "        return 0  # Probability is 0 for x < 0\n",
        "    probability = (mu ** x) * (math.exp(-mu)) / math.factorial(x)\n",
        "    return probability"
      ],
      "metadata": {
        "id": "rN4K0x6eUhka"
      },
      "execution_count": null,
      "outputs": []
    },
    {
      "cell_type": "code",
      "source": [
        "if __name__=='__main__':\n",
        "    names = ['geometric', 'binomial', 'poisson', 'uniform']\n",
        "    name = (input(\"Enter your distribution(Geometric, Binomial, Poisson, Uniform): \").lower())\n",
        "\n",
        "    if name not in names:\n",
        "        raise ValueError(\"Invalid distribution\")\n",
        "\n",
        "    start = int(input(\"Enter the start point: \"))\n",
        "    point = int(input(\"Enter the end point: \"))\n",
        "\n",
        "    res = []\n",
        "\n",
        "    if name == 'geometric':\n",
        "        p = float(input('Enter the probability of the event: '))\n",
        "        res = [geometric(x, p) for x in range(start, point + 1)]\n",
        "    if name == 'binomial':\n",
        "        k = int(input('Enter the number of successes we want to observe (where 0≤k≤n): '))\n",
        "        p = float(input('Enter the probability of success: '))\n",
        "        res = [binomial(x, p) for x in range(start, point + 1)]\n",
        "    if name == 'poisson':\n",
        "        mu = int(input('Enter the average number of events'))\n",
        "        res = [poisson(x, mu) for x in range(start, point + 1)]\n",
        "    else:\n",
        "        low = int(input('Enter the lower bound: '))\n",
        "        high = int(input('Enter the upper bound: '))\n",
        "        res = [uniform(x, p) for x in range(start, point + 1)]"
      ],
      "metadata": {
        "id": "QTC42gRVXTsG"
      },
      "execution_count": null,
      "outputs": []
    }
  ],
  "metadata": {
    "colab": {
      "provenance": [],
      "include_colab_link": true
    },
    "kernelspec": {
      "display_name": "Python 3",
      "name": "python3"
    },
    "language_info": {
      "codemirror_mode": {
        "name": "ipython",
        "version": 3
      },
      "file_extension": ".py",
      "mimetype": "text/x-python",
      "name": "python",
      "nbconvert_exporter": "python",
      "pygments_lexer": "ipython3",
      "version": "3.12.7"
    }
  },
  "nbformat": 4,
  "nbformat_minor": 0
}